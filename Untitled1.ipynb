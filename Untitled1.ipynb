{
  "nbformat": 4,
  "nbformat_minor": 0,
  "metadata": {
    "colab": {
      "name": "Untitled1.ipynb",
      "provenance": [],
      "authorship_tag": "ABX9TyNQPCt/aN79HqYtiobdJtW+",
      "include_colab_link": true
    },
    "kernelspec": {
      "name": "python3",
      "display_name": "Python 3"
    },
    "language_info": {
      "name": "python"
    }
  },
  "cells": [
    {
      "cell_type": "markdown",
      "metadata": {
        "id": "view-in-github",
        "colab_type": "text"
      },
      "source": [
        "<a href=\"https://colab.research.google.com/github/shimhang/shimhang/blob/main/Untitled1.ipynb\" target=\"_parent\"><img src=\"https://colab.research.google.com/assets/colab-badge.svg\" alt=\"Open In Colab\"/></a>"
      ]
    },
    {
      "cell_type": "code",
      "source": [
        "print(\"3개의 정수값을 입력하시오\")\n",
        "n1 = int(input(\"n1의 정수값을 입력: \")) # n1값을 int로 입력받는다.\n",
        "n2 = int(input(\"n1의 정수값을 입력: \")) # n2값을 int로 입력받는다. \n",
        "n3 = int(input(\"n1의 정수값을 입력: \")) # n3값을 int로 입력받는다.\n",
        "total = n1 + n2 + n3;\n",
        "average = total /3 ;\n",
        "print(average)\n",
        "\n"
      ],
      "metadata": {
        "colab": {
          "base_uri": "https://localhost:8080/"
        },
        "id": "YQvyFLhPeVq9",
        "outputId": "0b699568-2195-41f9-b821-8be158e87eab"
      },
      "execution_count": null,
      "outputs": [
        {
          "output_type": "stream",
          "name": "stdout",
          "text": [
            "3개의 정수값을 입력하시오\n",
            "n1의 정수값을 입력: 20\n",
            "n1의 정수값을 입력: 30\n",
            "n1의 정수값을 입력: 50\n",
            "33.333333333333336\n"
          ]
        }
      ]
    },
    {
      "cell_type": "code",
      "source": [
        "import math              # 1. math라는 수학 모듈을 가져온다.\n",
        "#from math import sqrt  # 2. math라는 수학모듈에서 근의 공식을 구하는 수학 함수 sqrt만을 가져온다. print(\"'a, b, c' 3개의 값을 입력하시오\")\n",
        "a = int(input(\"Enter the a: \")) # a값을 int로 입력받는다.\n",
        "b = int(input(\"Enter the b: \")) # b값을 int로 입력받는다.\n",
        "c = int(input(\"Enter the c: \")) # c값을 int로 입력받는다. \n",
        "d = math.sqrt(b*b) - (4*a*c); # 1. math 모듈을 가져올때는 이렇게 사용\n",
        "#d = sqrt(b*b) - (4*a*c); # 2. sqrt 함수만을 가져올때는 이렇게 사용\n",
        "x1 = (-b+d) / (2 * a);\n",
        "x2 = (-b-d) / (2 * a);\n",
        "print(x1, x2)\n",
        "\n"
      ],
      "metadata": {
        "colab": {
          "base_uri": "https://localhost:8080/"
        },
        "id": "mfTrPKdnejKM",
        "outputId": "14e14b09-1019-49cf-b75a-e69614d3a69e"
      },
      "execution_count": null,
      "outputs": [
        {
          "output_type": "stream",
          "name": "stdout",
          "text": [
            "Enter the a: 10\n",
            "Enter the b: 20\n",
            "Enter the c: 30\n",
            "-60.0 58.0\n"
          ]
        }
      ]
    },
    {
      "cell_type": "code",
      "source": [
        "import math\n",
        "# 근의공식 구하기\n",
        "a = int(input(\"a의 값을 입력하세요: \"))\n",
        "b = int(input(\"b의 값을 입력하세요: \"))\n",
        "c = int(input(\"c의 값을 입력하세요: \"))\n",
        "x1 = ((-b + (math.sqrt(math.pow(b,2) - 4 * a * c)))/2 * a)\n",
        "x2 = (3(-b - (math.sqrt(math.pow(b,2) - 4 * a * c)))/2 * a)\n",
        "print(\"x1 = \" , x1)\n",
        "print(\"x2 = \" , x2)"
      ],
      "metadata": {
        "colab": {
          "base_uri": "https://localhost:8080/",
          "height": 307
        },
        "id": "5qcAYNLniISu",
        "outputId": "b962c87c-b679-4d19-f7d5-8d876a4a089f"
      },
      "execution_count": null,
      "outputs": [
        {
          "name": "stdout",
          "output_type": "stream",
          "text": [
            "a의 값을 입력하세요: 1\n",
            "b의 값을 입력하세요: 2\n",
            "c의 값을 입력하세요: 3\n"
          ]
        },
        {
          "output_type": "error",
          "ename": "ValueError",
          "evalue": "ignored",
          "traceback": [
            "\u001b[0;31m---------------------------------------------------------------------------\u001b[0m",
            "\u001b[0;31mValueError\u001b[0m                                Traceback (most recent call last)",
            "\u001b[0;32m<ipython-input-54-9abe6aeb547f>\u001b[0m in \u001b[0;36m<module>\u001b[0;34m()\u001b[0m\n\u001b[1;32m      4\u001b[0m \u001b[0mb\u001b[0m \u001b[0;34m=\u001b[0m \u001b[0mint\u001b[0m\u001b[0;34m(\u001b[0m\u001b[0minput\u001b[0m\u001b[0;34m(\u001b[0m\u001b[0;34m\"b의 값을 입력하세요: \"\u001b[0m\u001b[0;34m)\u001b[0m\u001b[0;34m)\u001b[0m\u001b[0;34m\u001b[0m\u001b[0;34m\u001b[0m\u001b[0m\n\u001b[1;32m      5\u001b[0m \u001b[0mc\u001b[0m \u001b[0;34m=\u001b[0m \u001b[0mint\u001b[0m\u001b[0;34m(\u001b[0m\u001b[0minput\u001b[0m\u001b[0;34m(\u001b[0m\u001b[0;34m\"c의 값을 입력하세요: \"\u001b[0m\u001b[0;34m)\u001b[0m\u001b[0;34m)\u001b[0m\u001b[0;34m\u001b[0m\u001b[0;34m\u001b[0m\u001b[0m\n\u001b[0;32m----> 6\u001b[0;31m \u001b[0mx1\u001b[0m \u001b[0;34m=\u001b[0m \u001b[0;34m(\u001b[0m\u001b[0;34m(\u001b[0m\u001b[0;34m-\u001b[0m\u001b[0mb\u001b[0m \u001b[0;34m+\u001b[0m \u001b[0;34m(\u001b[0m\u001b[0mmath\u001b[0m\u001b[0;34m.\u001b[0m\u001b[0msqrt\u001b[0m\u001b[0;34m(\u001b[0m\u001b[0mmath\u001b[0m\u001b[0;34m.\u001b[0m\u001b[0mpow\u001b[0m\u001b[0;34m(\u001b[0m\u001b[0mb\u001b[0m\u001b[0;34m,\u001b[0m\u001b[0;36m2\u001b[0m\u001b[0;34m)\u001b[0m \u001b[0;34m-\u001b[0m \u001b[0;36m4\u001b[0m \u001b[0;34m*\u001b[0m \u001b[0ma\u001b[0m \u001b[0;34m*\u001b[0m \u001b[0mc\u001b[0m\u001b[0;34m)\u001b[0m\u001b[0;34m)\u001b[0m\u001b[0;34m)\u001b[0m\u001b[0;34m/\u001b[0m\u001b[0;36m2\u001b[0m \u001b[0;34m*\u001b[0m \u001b[0ma\u001b[0m\u001b[0;34m)\u001b[0m\u001b[0;34m\u001b[0m\u001b[0;34m\u001b[0m\u001b[0m\n\u001b[0m\u001b[1;32m      7\u001b[0m \u001b[0mx2\u001b[0m \u001b[0;34m=\u001b[0m \u001b[0;34m(\u001b[0m\u001b[0;34m(\u001b[0m\u001b[0;34m-\u001b[0m\u001b[0mb\u001b[0m \u001b[0;34m-\u001b[0m \u001b[0;34m(\u001b[0m\u001b[0mmath\u001b[0m\u001b[0;34m.\u001b[0m\u001b[0msqrt\u001b[0m\u001b[0;34m(\u001b[0m\u001b[0mmath\u001b[0m\u001b[0;34m.\u001b[0m\u001b[0mpow\u001b[0m\u001b[0;34m(\u001b[0m\u001b[0mb\u001b[0m\u001b[0;34m,\u001b[0m\u001b[0;36m2\u001b[0m\u001b[0;34m)\u001b[0m \u001b[0;34m-\u001b[0m \u001b[0;36m4\u001b[0m \u001b[0;34m*\u001b[0m \u001b[0ma\u001b[0m \u001b[0;34m*\u001b[0m \u001b[0mc\u001b[0m\u001b[0;34m)\u001b[0m\u001b[0;34m)\u001b[0m\u001b[0;34m)\u001b[0m\u001b[0;34m/\u001b[0m\u001b[0;36m2\u001b[0m \u001b[0;34m*\u001b[0m \u001b[0ma\u001b[0m\u001b[0;34m)\u001b[0m\u001b[0;34m\u001b[0m\u001b[0;34m\u001b[0m\u001b[0m\n\u001b[1;32m      8\u001b[0m \u001b[0mprint\u001b[0m\u001b[0;34m(\u001b[0m\u001b[0;34m\"x1 = \"\u001b[0m \u001b[0;34m,\u001b[0m \u001b[0mx1\u001b[0m\u001b[0;34m)\u001b[0m\u001b[0;34m\u001b[0m\u001b[0;34m\u001b[0m\u001b[0m\n",
            "\u001b[0;31mValueError\u001b[0m: math domain error"
          ]
        }
      ]
    },
    {
      "cell_type": "code",
      "source": [
        "total = 0 # 0부터 시작(0으로 초기화)\n",
        "counter = 1 #\n",
        "while counter <= 10:\n",
        " grade=int(input (\"Enter grade: \"))\n",
        " total = grade + total \n",
        " counter = counter + 1\n",
        "average = total / 10\n",
        "print(average)"
      ],
      "metadata": {
        "colab": {
          "base_uri": "https://localhost:8080/"
        },
        "id": "QXsfuWzRiPZn",
        "outputId": "f3607aac-28db-4a3b-c295-51615c3cd961"
      },
      "execution_count": null,
      "outputs": [
        {
          "output_type": "stream",
          "name": "stdout",
          "text": [
            "Enter grade: 19\n",
            "Enter grade: 30\n",
            "Enter grade: 60\n",
            "Enter grade: 70\n",
            "Enter grade: 90\n",
            "Enter grade: 100\n",
            "Enter grade: 101\n",
            "Enter grade: 102\n",
            "Enter grade: 103\n",
            "Enter grade: 4205\n",
            "488.0\n"
          ]
        }
      ]
    },
    {
      "cell_type": "code",
      "source": [
        "total = 0\n",
        "counter = 1\n",
        "while counter <= 10:\n",
        " grad = int(input (\"Enter grade: \"))\n",
        " total = grade + total \n",
        " counter = counter + 1\n",
        "average = total / 10\n",
        "print(average)\n"
      ],
      "metadata": {
        "colab": {
          "base_uri": "https://localhost:8080/"
        },
        "id": "5NNakW-1ijqH",
        "outputId": "ef1d88f3-74ec-4e6e-e865-94c685f63ecf"
      },
      "execution_count": null,
      "outputs": [
        {
          "output_type": "stream",
          "name": "stdout",
          "text": [
            "Enter grade: 10\n",
            "Enter grade: 20\n",
            "Enter grade: 40\n",
            "Enter grade: 90\n",
            "Enter grade: 49\n",
            "Enter grade: 12\n",
            "Enter grade: 233\n",
            "Enter grade: 24\n",
            "Enter grade: 24\n",
            "Enter grade: 25\n",
            "4205.0\n"
          ]
        }
      ]
    },
    {
      "cell_type": "code",
      "source": [
        "print(\"3개의 값을 입력하시오\")\n",
        "x = int(input(\"Enter the x: \"))\n",
        "y = int(input(\"Enter the y: \"))\n",
        "z = int(input(\"Enter the z: \"))\n",
        "x = x + 1\n",
        "y = y + 1\n",
        "z = z + 1\n",
        "print(\"변경된 값 : \", x, y, z)"
      ],
      "metadata": {
        "colab": {
          "base_uri": "https://localhost:8080/"
        },
        "id": "_jzrphJwiwCG",
        "outputId": "40bbb420-2a43-4a61-b2c1-cae02f2f4f15"
      },
      "execution_count": null,
      "outputs": [
        {
          "output_type": "stream",
          "name": "stdout",
          "text": [
            "3개의 값을 입력하시오\n",
            "Enter the x: 10\n",
            "Enter the y: 20\n",
            "Enter the z: 30\n",
            "변경된 값 :  11 21 31\n"
          ]
        }
      ]
    },
    {
      "cell_type": "code",
      "source": [
        "a = 10\n",
        "b = 8750\n",
        "c = a * b\n",
        "print(c)\n",
        "pay_rate = 8750\n",
        "hours_worked = int(input(\"일을 한 전체 시간입력하세요!: \" ))\n",
        "monthly_pay = hours_worked * pay_rate\n",
        "print(monthly_pay)"
      ],
      "metadata": {
        "colab": {
          "base_uri": "https://localhost:8080/"
        },
        "id": "lcRqNai7i1lv",
        "outputId": "ff4996ab-a412-458c-ef53-c07d3853dbd5"
      },
      "execution_count": null,
      "outputs": [
        {
          "output_type": "stream",
          "name": "stdout",
          "text": [
            "87500\n",
            "일을 한 전체 시간입력하세요!: 90\n",
            "787500\n"
          ]
        }
      ]
    },
    {
      "cell_type": "code",
      "source": [
        "won = 100000\n",
        "usd = won * 1130\n",
        "print(usd)\n"
      ],
      "metadata": {
        "colab": {
          "base_uri": "https://localhost:8080/"
        },
        "id": "Yjc_OvOkjArS",
        "outputId": "da38304a-a053-44a7-825b-e7366ffa380e"
      },
      "execution_count": null,
      "outputs": [
        {
          "output_type": "stream",
          "name": "stdout",
          "text": [
            "113000000\n"
          ]
        }
      ]
    },
    {
      "cell_type": "code",
      "source": [
        "exchange_rate = int(input(\"현재 환율입력: \"))\n",
        "won = 100000\n",
        "usd = won * exchange_rate\n",
        "print(usd)\n"
      ],
      "metadata": {
        "colab": {
          "base_uri": "https://localhost:8080/"
        },
        "id": "hTNbmH1RjG52",
        "outputId": "486ddc9a-ab9f-4d74-ca81-0067d2ff6ce1"
      },
      "execution_count": null,
      "outputs": [
        {
          "output_type": "stream",
          "name": "stdout",
          "text": [
            "현재 환율입력: 1030\n",
            "103000000\n"
          ]
        }
      ]
    },
    {
      "cell_type": "code",
      "source": [
        "fahrenheit = 100\n",
        "celsius = fahrenheit-32\n",
        "celsius = celsius * 5\n",
        "celsius = celsius/9\n",
        "print(celsius)\n"
      ],
      "metadata": {
        "colab": {
          "base_uri": "https://localhost:8080/"
        },
        "id": "P70QoWJtjLJm",
        "outputId": "992692cc-42e7-4044-8484-1c52d15bb18f"
      },
      "execution_count": null,
      "outputs": [
        {
          "output_type": "stream",
          "name": "stdout",
          "text": [
            "37.77777777777778\n"
          ]
        }
      ]
    },
    {
      "cell_type": "code",
      "source": [
        "x = 0\n",
        "y = 0\n",
        "x = int(input(\"정수 x를 입력하시오: \"))\n",
        "y = int(input(\"정수 y를 입력하시오: \"))\n",
        "sum = x + y\n",
        "print(sum)\n"
      ],
      "metadata": {
        "colab": {
          "base_uri": "https://localhost:8080/"
        },
        "id": "2_XOBKDIjOBx",
        "outputId": "028531c2-2075-47a3-a394-6fa1572be4d2"
      },
      "execution_count": null,
      "outputs": [
        {
          "output_type": "stream",
          "name": "stdout",
          "text": [
            "정수 x를 입력하시오: 3\n",
            "정수 y를 입력하시오: 4\n",
            "7\n"
          ]
        }
      ]
    },
    {
      "cell_type": "code",
      "source": [
        "price = int(input(\"상품의 가격을 입력하시오: \"))\n",
        "vat = price * 0.1\n",
        "print(vat)\n"
      ],
      "metadata": {
        "colab": {
          "base_uri": "https://localhost:8080/"
        },
        "id": "RwT3Vn0djSY-",
        "outputId": "dd0945a2-6f45-4503-b3a9-98b0fd9f0487"
      },
      "execution_count": null,
      "outputs": [
        {
          "output_type": "stream",
          "name": "stdout",
          "text": [
            "상품의 가격을 입력하시오: 4000\n",
            "400.0\n"
          ]
        }
      ]
    },
    {
      "cell_type": "code",
      "source": [
        "age = int(input(\"현재 나이를 입력하시오.: \"))\n",
        "age = age + 10\n",
        "print(\"10년후면\", age, \" 세가 되시는 군요\")"
      ],
      "metadata": {
        "colab": {
          "base_uri": "https://localhost:8080/"
        },
        "id": "bYW3_kndjWRQ",
        "outputId": "fd5cf8a2-9ccd-4510-e189-cd75f43025be"
      },
      "execution_count": null,
      "outputs": [
        {
          "output_type": "stream",
          "name": "stdout",
          "text": [
            "현재 나이를 입력하시오.: 21\n",
            "10년후면 31  세가 되시는 군요\n"
          ]
        }
      ]
    },
    {
      "cell_type": "code",
      "source": [
        "print(\"########################\")\n",
        "print(\"# 배송료 계산 프로그램 #\")\n",
        "print(\"########################\")\n",
        "price= int(input(\"상품의 가격을 입력하세요: \"))\n",
        "if price > 2000:\n",
        " shipping_cost = 0\n",
        "else:\n",
        " shipping_cost = 3000\n",
        "print(shipping_cost)\n"
      ],
      "metadata": {
        "colab": {
          "base_uri": "https://localhost:8080/"
        },
        "id": "USo74GcGjaTe",
        "outputId": "a1cc3fa3-ee9c-43f9-b0f4-8728643b5a17"
      },
      "execution_count": null,
      "outputs": [
        {
          "output_type": "stream",
          "name": "stdout",
          "text": [
            "########################\n",
            "# 배송료 계산 프로그램 #\n",
            "########################\n",
            "상품의 가격을 입력하세요: 4000\n",
            "0\n"
          ]
        }
      ]
    },
    {
      "cell_type": "code",
      "source": [
        "print(\"########################\")\n",
        "print(\"# 합격 불합격 프로그램 #\")\n",
        "print(\"########################\")\n",
        "grade = int(input(\"성적을 입력하시오.: \"))\n",
        "if grade >= 60 :\n",
        " print(\"합격\")\n",
        "else :\n",
        " print(\"불합격\")\n",
        " \n"
      ],
      "metadata": {
        "colab": {
          "base_uri": "https://localhost:8080/"
        },
        "id": "wM-Mo0xAjhC5",
        "outputId": "449fd6db-b018-4189-d411-af596036e3aa"
      },
      "execution_count": null,
      "outputs": [
        {
          "output_type": "stream",
          "name": "stdout",
          "text": [
            "########################\n",
            "# 합격 불합격 프로그램 #\n",
            "########################\n",
            "성적을 입력하시오.: 50\n",
            "불합격\n"
          ]
        }
      ]
    },
    {
      "cell_type": "code",
      "source": [
        "print(\"근무 시간을 입력하시오\")\n",
        "work_hour=int(input(\"근무시간 입력: \"))\n",
        "if work_hour > 72 :\n",
        " print(\"초과근무 하셨습니다.\")\n",
        "else:\n",
        " print(\"정상근무하셨습니다.\")"
      ],
      "metadata": {
        "colab": {
          "base_uri": "https://localhost:8080/"
        },
        "id": "smKHZ_9DjnYH",
        "outputId": "c0e528fc-abe8-4429-8c89-bf83d40a8fb2"
      },
      "execution_count": null,
      "outputs": [
        {
          "output_type": "stream",
          "name": "stdout",
          "text": [
            "근무 시간을 입력하시오\n",
            "근무시간 입력: 90\n",
            "초과근무 하셨습니다.\n"
          ]
        }
      ]
    },
    {
      "cell_type": "code",
      "source": [
        "print(\"########################\")\n",
        "print(\"# 짝수와 홀수 판별 앱 #\")\n",
        "print(\"########################\")\n",
        "x = int(input(\"x값 정수를 입력하시오: \"))\n",
        "if (x % 2) != 0 :\n",
        " print(\"홀수입니다.\")\n",
        "else:\n",
        " print(\"짝수입니다.\")\n"
      ],
      "metadata": {
        "colab": {
          "base_uri": "https://localhost:8080/"
        },
        "id": "KtsAh42cjuIH",
        "outputId": "6cfd1b5b-328d-43e6-802a-9f3ca3c36cd7"
      },
      "execution_count": null,
      "outputs": [
        {
          "output_type": "stream",
          "name": "stdout",
          "text": [
            "########################\n",
            "# 짝수와 홀수 판별 앱 #\n",
            "########################\n",
            "x값 정수를 입력하시오: 1\n",
            "홀수입니다.\n"
          ]
        }
      ]
    },
    {
      "cell_type": "code",
      "source": [
        "print(\"정수를 입력하시오.\")\n",
        "x= int(input(\"정수값 x를 입력하시오.: \"))\n",
        "y= int(input(\"정수값 y를 입력하시오.: \"))\n",
        "if x > y :\n",
        " print(x)\n",
        "else:\n",
        " print(y)\n"
      ],
      "metadata": {
        "colab": {
          "base_uri": "https://localhost:8080/"
        },
        "id": "JVseF3YGjztB",
        "outputId": "82551ea5-e48c-420d-9b57-ae819d43458a"
      },
      "execution_count": null,
      "outputs": [
        {
          "output_type": "stream",
          "name": "stdout",
          "text": [
            "정수를 입력하시오.\n",
            "정수값 x를 입력하시오.: 3\n",
            "정수값 y를 입력하시오.: 4\n",
            "4\n"
          ]
        }
      ]
    },
    {
      "cell_type": "code",
      "source": [
        "print(\"########################\")\n",
        "print(\"# 이름, 나이, 답변 앱 #\")\n",
        "print(\"########################\")\n",
        "yu_name = str(input(\"이름: \"))\n",
        "yu_age = int(input(\"나이: \"))\n",
        "if yu_age <= 25 :\n",
        " print(\"와우!!! 프로그래밍을 완벽하게 배울수 있는 나이입니다.!\")\n",
        "else:\n",
        " print(\"포기하기에는 아직 늦지 않았습니다.\")\n",
        "print(\"\\n\")"
      ],
      "metadata": {
        "colab": {
          "base_uri": "https://localhost:8080/"
        },
        "id": "RG1qLvMdj4CT",
        "outputId": "a55b094a-2dc4-4dc2-9643-e7c4aa6d09fd"
      },
      "execution_count": null,
      "outputs": [
        {
          "output_type": "stream",
          "name": "stdout",
          "text": [
            "########################\n",
            "# 이름, 나이, 답변 앱 #\n",
            "########################\n",
            "이름: 심형진\n",
            "나이: 21\n",
            "와우!!! 프로그래밍을 완벽하게 배울수 있는 나이입니다.!\n",
            "\n",
            "\n"
          ]
        }
      ]
    },
    {
      "cell_type": "code",
      "source": [
        "price = int(input(\"상품의 가격을 입력하세요.: \"))\n",
        "if price > 100000:\n",
        " shipping_cost = 0\n",
        "else:\n",
        " if price > 2000:\n",
        "   shipping_cost = 3000\n",
        " else:\n",
        "    shipping_cost = 5000\n",
        " print(\"배송료는\", shipping_cost, \"입니다.\")"
      ],
      "metadata": {
        "colab": {
          "base_uri": "https://localhost:8080/"
        },
        "id": "60qHSt7dj95G",
        "outputId": "fd0aac11-0ab2-4ec0-b83f-3fcca7cc725e"
      },
      "execution_count": null,
      "outputs": [
        {
          "output_type": "stream",
          "name": "stdout",
          "text": [
            "상품의 가격을 입력하세요.: 3000\n",
            "배송료는 3000 입니다.\n"
          ]
        }
      ]
    }
  ]
}